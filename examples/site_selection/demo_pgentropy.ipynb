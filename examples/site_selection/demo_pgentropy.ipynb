{
 "cells": [
  {
   "cell_type": "code",
   "execution_count": 1,
   "metadata": {},
   "outputs": [],
   "source": [
    "import os\n",
    "os.chdir('../..')\n",
    "\n",
    "import pytrial\n",
    "pytrial.manual_seed(42)\n",
    "\n",
    "import torch\n",
    "import numpy as np\n",
    "import pandas as pd\n",
    "\n",
    "from pytrial.tasks.site_selection.data import TrialSiteSimple\n",
    "from pytrial.tasks.site_selection import PolicyGradientEntropy"
   ]
  },
  {
   "cell_type": "code",
   "execution_count": 2,
   "metadata": {},
   "outputs": [
    {
     "name": "stderr",
     "output_type": "stream",
     "text": [
      "/Users/brandontheodorou/Desktop/SunLab/Code/PyTrial/pytrial/data/site_data.py:254: UserWarning: No metadata provided. Metadata will be automatically detected from your data. This process may not be accurate. We recommend writing metadata to ensure correct data handling.\n",
      "  warnings.warn('No metadata provided. Metadata will be automatically '\n",
      "/Users/brandontheodorou/Desktop/SunLab/Code/PyTrial/pytrial/data/trial_data.py:263: UserWarning: No metadata provided. Metadata will be automatically detected from your data. This process may not be accurate. We recommend writing metadata to ensure correct data handling.\n",
      "  warnings.warn('No metadata provided. Metadata will be automatically '\n"
     ]
    }
   ],
   "source": [
    "# Build Dummy Dataset\n",
    "M = 10\n",
    "\n",
    "siteDf = pd.DataFrame(np.random.randint(0,10,size=(1000, 26)), columns=list('ABCDEFGHIJKLMNOPQRSTUVWXYZ'))\n",
    "siteDf['demographics'] = [torch.softmax(torch.randn(5), dim=0).numpy() for _ in range(len(siteDf))]\n",
    "\n",
    "trialDf = pd.DataFrame(np.random.randint(0,10,size=(100, 10)), columns=list('ABCDEFGHIJ'))\n",
    "trialDf['label'] = [list(np.random.choice(list(range(1000)), M, replace=False)) for _ in range(len(trialDf))]\n",
    "trialDf['enrollment'] = [[np.random.randint(0,100) for _ in range(M)] for _ in range(len(trialDf))]\n",
    "\n",
    "trial_site_data = TrialSiteSimple(siteDf, trialDf)"
   ]
  },
  {
   "cell_type": "code",
   "execution_count": 3,
   "metadata": {},
   "outputs": [
    {
     "name": "stdout",
     "output_type": "stream",
     "text": [
      "***** Running training *****\n",
      "  Num examples = 100\n",
      "  Num Epochs = 3\n",
      "  Total optimization steps = 75\n"
     ]
    },
    {
     "name": "stderr",
     "output_type": "stream",
     "text": [
      "Training Epoch:   0%|          | 0/3 [00:00<?, ?it/s]"
     ]
    },
    {
     "name": "stdout",
     "output_type": "stream",
     "text": [
      "\n",
      "######### Train Loss 10 #########\n",
      "0 8.4602 \n",
      "\n"
     ]
    },
    {
     "name": "stderr",
     "output_type": "stream",
     "text": [
      "Iteration: 100%|██████████| 25/25 [00:00<00:00, 95.29it/s]\n",
      "Training Epoch:  33%|███▎      | 1/3 [00:00<00:00,  3.69it/s]"
     ]
    },
    {
     "name": "stdout",
     "output_type": "stream",
     "text": [
      "\n",
      "######### Train Loss 20 #########\n",
      "0 8.5250 \n",
      "\n"
     ]
    },
    {
     "name": "stderr",
     "output_type": "stream",
     "text": []
    },
    {
     "name": "stdout",
     "output_type": "stream",
     "text": [
      "\n",
      "######### Train Loss 30 #########\n",
      "0 8.4397 \n",
      "\n"
     ]
    },
    {
     "name": "stderr",
     "output_type": "stream",
     "text": []
    },
    {
     "name": "stdout",
     "output_type": "stream",
     "text": [
      "\n",
      "######### Train Loss 40 #########\n",
      "0 8.4717 \n",
      "\n"
     ]
    },
    {
     "name": "stderr",
     "output_type": "stream",
     "text": [
      "Iteration: 100%|██████████| 25/25 [00:00<00:00, 95.02it/s]\n",
      "Training Epoch:  67%|██████▋   | 2/3 [00:00<00:00,  3.68it/s]"
     ]
    },
    {
     "name": "stdout",
     "output_type": "stream",
     "text": [
      "\n",
      "######### Train Loss 50 #########\n",
      "0 8.4162 \n",
      "\n"
     ]
    },
    {
     "name": "stderr",
     "output_type": "stream",
     "text": []
    },
    {
     "name": "stdout",
     "output_type": "stream",
     "text": [
      "\n",
      "######### Train Loss 60 #########\n",
      "0 8.4310 \n",
      "\n"
     ]
    },
    {
     "name": "stderr",
     "output_type": "stream",
     "text": []
    },
    {
     "name": "stdout",
     "output_type": "stream",
     "text": [
      "\n",
      "######### Train Loss 70 #########\n",
      "0 8.4120 \n",
      "\n"
     ]
    },
    {
     "name": "stderr",
     "output_type": "stream",
     "text": [
      "Iteration: 100%|██████████| 25/25 [00:00<00:00, 127.57it/s]\n",
      "Training Epoch: 100%|██████████| 3/3 [00:00<00:00,  4.03it/s]\n"
     ]
    },
    {
     "name": "stdout",
     "output_type": "stream",
     "text": [
      "Training completes.\n"
     ]
    }
   ],
   "source": [
    "# Initialize Model\n",
    "model = PolicyGradientEntropy(\n",
    "    trial_dim=10, \n",
    "    site_dim=26, \n",
    "    embedding_dim=16, \n",
    "    enrollment_only=False,\n",
    "    K=5,\n",
    "    lam=1,\n",
    "    learning_rate=1e-4,\n",
    "    batch_size=4,\n",
    "    epochs=3,\n",
    "    device='cpu'\n",
    ")\n",
    "\n",
    "model.fit(trial_site_data)"
   ]
  },
  {
   "cell_type": "code",
   "execution_count": 4,
   "metadata": {},
   "outputs": [
    {
     "name": "stdout",
     "output_type": "stream",
     "text": [
      "[[5, 8, 3, 0, 6], [3, 5, 8, 6, 7], [8, 9, 4, 0, 7], [7, 0, 6, 3, 1], [9, 1, 0, 3, 6], [0, 5, 2, 3, 1], [3, 4, 9, 1, 8], [1, 2, 5, 9, 0], [8, 4, 3, 2, 7], [7, 0, 9, 3, 1], [3, 9, 2, 7, 1], [0, 4, 3, 9, 5], [8, 9, 3, 7, 4], [5, 0, 4, 1, 7], [2, 4, 5, 9, 7], [2, 6, 9, 0, 8], [3, 9, 4, 8, 1], [3, 5, 8, 9, 6], [7, 3, 6, 2, 8], [6, 9, 2, 4, 1], [5, 0, 8, 6, 2], [5, 3, 6, 7, 0], [8, 4, 5, 1, 9], [1, 7, 0, 5, 8], [3, 2, 0, 1, 9], [0, 9, 7, 4, 8], [7, 9, 0, 5, 8], [1, 7, 9, 4, 5], [8, 2, 4, 6, 1], [6, 0, 7, 4, 8], [9, 6, 7, 5, 8], [5, 6, 2, 4, 8], [7, 2, 3, 1, 4], [7, 3, 8, 1, 4], [4, 3, 9, 0, 6], [7, 1, 5, 6, 0], [9, 6, 7, 5, 8], [7, 1, 9, 4, 2], [7, 3, 6, 8, 9], [6, 8, 7, 5, 4], [9, 5, 7, 4, 6], [1, 9, 8, 2, 6], [6, 9, 3, 2, 5], [2, 6, 3, 5, 8], [3, 6, 2, 4, 8], [8, 6, 0, 9, 5], [8, 7, 5, 9, 1], [4, 7, 5, 3, 1], [8, 7, 1, 9, 5], [4, 9, 0, 2, 5], [0, 2, 5, 8, 4], [2, 7, 1, 8, 6], [6, 3, 5, 7, 9], [1, 2, 5, 7, 3], [3, 6, 8, 4, 5], [2, 4, 8, 5, 3], [7, 3, 8, 9, 4], [7, 3, 4, 6, 8], [0, 9, 4, 3, 8], [6, 1, 2, 3, 5], [7, 1, 4, 8, 0], [6, 8, 3, 7, 9], [1, 7, 0, 4, 5], [9, 2, 4, 5, 7], [4, 6, 7, 0, 5], [5, 8, 6, 4, 9], [4, 1, 2, 9, 3], [2, 5, 7, 1, 9], [3, 0, 4, 5, 9], [9, 2, 7, 5, 3], [5, 4, 1, 2, 9], [9, 1, 3, 7, 5], [6, 5, 2, 7, 8], [1, 5, 4, 0, 6], [5, 0, 3, 6, 2], [6, 4, 7, 5, 8], [4, 7, 1, 9, 2], [2, 6, 3, 7, 5], [9, 3, 7, 8, 6], [1, 8, 6, 0, 9], [8, 4, 5, 7, 2], [8, 7, 6, 2, 4], [7, 8, 2, 5, 4], [9, 2, 4, 0, 8], [2, 5, 3, 4, 1], [5, 1, 8, 6, 7], [3, 4, 0, 2, 8], [5, 1, 8, 0, 7], [0, 9, 5, 7, 3], [1, 5, 7, 4, 0], [9, 8, 1, 6, 0], [0, 1, 5, 6, 8], [3, 2, 0, 7, 4], [1, 7, 0, 8, 9], [4, 9, 6, 7, 8], [6, 4, 8, 2, 1], [8, 4, 0, 9, 5], [2, 5, 7, 0, 1], [3, 9, 7, 5, 6], [8, 1, 9, 2, 3]]\n"
     ]
    }
   ],
   "source": [
    "# Make Site Selections\n",
    "selections = model.predict(trial_site_data)\n",
    "print(selections)"
   ]
  }
 ],
 "metadata": {
  "kernelspec": {
   "display_name": "Python 3.9.7 ('base')",
   "language": "python",
   "name": "python3"
  },
  "language_info": {
   "codemirror_mode": {
    "name": "ipython",
    "version": 3
   },
   "file_extension": ".py",
   "mimetype": "text/x-python",
   "name": "python",
   "nbconvert_exporter": "python",
   "pygments_lexer": "ipython3",
   "version": "3.9.7"
  },
  "orig_nbformat": 4,
  "vscode": {
   "interpreter": {
    "hash": "3067ead486e059ec00ffe7555bdb889e6e264a24dc711bf108106cc7baee8d5d"
   }
  }
 },
 "nbformat": 4,
 "nbformat_minor": 2
}
